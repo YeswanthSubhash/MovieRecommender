{
  "nbformat": 4,
  "nbformat_minor": 0,
  "metadata": {
    "colab": {
      "provenance": [],
      "authorship_tag": "ABX9TyOYHLAwaEx20Rqcl57MrrlH",
      "include_colab_link": true
    },
    "kernelspec": {
      "name": "python3",
      "display_name": "Python 3"
    },
    "language_info": {
      "name": "python"
    }
  },
  "cells": [
    {
      "cell_type": "markdown",
      "metadata": {
        "id": "view-in-github",
        "colab_type": "text"
      },
      "source": [
        "<a href=\"https://colab.research.google.com/github/YeswanthSubhash/MovieRecommender/blob/main/Movie_Recommender.ipynb\" target=\"_parent\"><img src=\"https://colab.research.google.com/assets/colab-badge.svg\" alt=\"Open In Colab\"/></a>"
      ]
    },
    {
      "cell_type": "code",
      "execution_count": null,
      "metadata": {
        "colab": {
          "base_uri": "https://localhost:8080/"
        },
        "id": "x0OuQo1DTon8",
        "outputId": "a48aa0a5-ef96-42dd-ea8e-1e5877f1851b"
      },
      "outputs": [
        {
          "output_type": "stream",
          "name": "stdout",
          "text": [
            "RMSE: 0.8727\n",
            "RMSE: 0.8727370211039466\n",
            "Top 10 recommendations for user 100 :\n",
            "720 - 4.8353146341893085\n",
            "904 - 4.835216642820601\n",
            "1148 - 4.749400253606174\n",
            "112852 - 4.7036676825276835\n",
            "56782 - 4.703146482344025\n",
            "750 - 4.678859896541974\n",
            "1172 - 4.627495803126688\n",
            "48516 - 4.618755820976956\n",
            "541 - 4.615787612222366\n",
            "741 - 4.61200740400235\n"
          ]
        }
      ],
      "source": [
        "# Import necessary libraries\n",
        "import pandas as pd\n",
        "from surprise import Reader, Dataset, SVD\n",
        "from surprise.model_selection import train_test_split\n",
        "from surprise.accuracy import rmse\n",
        "\n",
        "# Load the data into a Pandas dataframe\n",
        "data = pd.read_csv('ratings.csv')\n",
        "\n",
        "# Define the Reader object to parse the data\n",
        "reader = Reader(rating_scale=(1, 5))\n",
        "\n",
        "# Load the data into the Dataset object\n",
        "dataset = Dataset.load_from_df(data[['user_id', 'movie_id', 'rating']], reader)\n",
        "\n",
        "# Split the data into training and test sets\n",
        "trainset, testset = train_test_split(dataset, test_size=0.25)\n",
        "\n",
        "# Train the SVD algorithm on the training set\n",
        "algorithm = SVD()\n",
        "algorithm.fit(trainset)\n",
        "\n",
        "# Test the algorithm on the test set and print the RMSE\n",
        "predictions = algorithm.test(testset)\n",
        "print('RMSE:', rmse(predictions))\n",
        "\n",
        "# Use the trained algorithm to generate movie recommendations for a given user\n",
        "user_id = 100\n",
        "movies = data['movie_id'].unique()\n",
        "user_movies = data[data['user_id'] == user_id]['movie_id']\n",
        "new_movies = list(set(movies) - set(user_movies))\n",
        "testset = [[user_id, movie_id, 4.] for movie_id in new_movies]\n",
        "predictions = algorithm.test(testset)\n",
        "recommendations = sorted(predictions, key=lambda x: x.est, reverse=True)\n",
        "\n",
        "# Print the top 10 movie recommendations for the user\n",
        "print('Top 10 recommendations for user', user_id, ':')\n",
        "for recommendation in recommendations[:10]:\n",
        "    print(recommendation.iid, '-', recommendation.est)\n"
      ]
    },
    {
      "cell_type": "code",
      "source": [
        "\n",
        "import pickle\n",
        "# Save the model to a file\n",
        "with open('model.pkl', 'wb') as f:\n",
        "    pickle.dump(algorithm, f)"
      ],
      "metadata": {
        "id": "mCYHL0VTVn8M"
      },
      "execution_count": null,
      "outputs": []
    },
    {
      "cell_type": "code",
      "source": [
        "# Use the trained algorithm to generate movie recommendations for a given user\n",
        "user_id = 101\n",
        "\n",
        "# Find the movies that the user has already rated\n",
        "user_movies = data[data['user_id'] == user_id]['movie_id']\n",
        "\n",
        "# Find the movies that the user has not rated yet\n",
        "movies = data['movie_id'].unique()\n",
        "new_movies = list(set(movies) - set(user_movies))\n",
        "\n",
        "# Create a test set for the user with a high rating for all new movies\n",
        "testset = [[user_id, movie_id, 4.] for movie_id in new_movies]\n",
        "\n",
        "# Get the predicted ratings for the new movies\n",
        "predictions = algorithm.test(testset)\n",
        "\n",
        "# Sort the predicted ratings in descending order and select the top 5 recommendations\n",
        "recommendations = sorted(predictions, key=lambda x: x.est, reverse=True)[:5]\n",
        "\n",
        "movies =[]\n",
        "# Print the top 5 movie recommendations for the user\n",
        "print('Top 5 recommendations for user', user_id, ':')\n",
        "for recommendation in recommendations:\n",
        "    print(recommendation.iid, '-', recommendation.est)\n",
        "    movies.append(recommendation.iid)\n"
      ],
      "metadata": {
        "colab": {
          "base_uri": "https://localhost:8080/"
        },
        "id": "FSsqDjdyfTs7",
        "outputId": "97077263-5f87-4b6d-e6e3-032a6202f885"
      },
      "execution_count": null,
      "outputs": [
        {
          "output_type": "stream",
          "name": "stdout",
          "text": [
            "Top 5 recommendations for user 101 :\n",
            "904 - 4.675532666528013\n",
            "4973 - 4.632928264009423\n",
            "1203 - 4.535740999527034\n",
            "1197 - 4.519773476446018\n",
            "593 - 4.472811731784702\n"
          ]
        }
      ]
    },
    {
      "cell_type": "code",
      "source": [
        "movies\n",
        "\n",
        "df = pd.read_csv('movies.csv')\n",
        "df[df['movieId'].isin(movies)]"
      ],
      "metadata": {
        "colab": {
          "base_uri": "https://localhost:8080/",
          "height": 206
        },
        "id": "90sFLxBcgO87",
        "outputId": "cf6dba7c-6b66-49d8-db18-ac8d18efeaea"
      },
      "execution_count": null,
      "outputs": [
        {
          "output_type": "execute_result",
          "data": {
            "text/plain": [
              "      movieId                                              title  \\\n",
              "510       593                   Silence of the Lambs, The (1991)   \n",
              "686       904                                 Rear Window (1954)   \n",
              "899      1197                         Princess Bride, The (1987)   \n",
              "905      1203                                12 Angry Men (1957)   \n",
              "3622     4973  Amelie (Fabuleux destin d'Amélie Poulain, Le) ...   \n",
              "\n",
              "                                       genres  \n",
              "510                     Crime|Horror|Thriller  \n",
              "686                          Mystery|Thriller  \n",
              "899   Action|Adventure|Comedy|Fantasy|Romance  \n",
              "905                                     Drama  \n",
              "3622                           Comedy|Romance  "
            ],
            "text/html": [
              "\n",
              "  <div id=\"df-40798634-3f43-4b86-ae20-5477c4b8648a\">\n",
              "    <div class=\"colab-df-container\">\n",
              "      <div>\n",
              "<style scoped>\n",
              "    .dataframe tbody tr th:only-of-type {\n",
              "        vertical-align: middle;\n",
              "    }\n",
              "\n",
              "    .dataframe tbody tr th {\n",
              "        vertical-align: top;\n",
              "    }\n",
              "\n",
              "    .dataframe thead th {\n",
              "        text-align: right;\n",
              "    }\n",
              "</style>\n",
              "<table border=\"1\" class=\"dataframe\">\n",
              "  <thead>\n",
              "    <tr style=\"text-align: right;\">\n",
              "      <th></th>\n",
              "      <th>movieId</th>\n",
              "      <th>title</th>\n",
              "      <th>genres</th>\n",
              "    </tr>\n",
              "  </thead>\n",
              "  <tbody>\n",
              "    <tr>\n",
              "      <th>510</th>\n",
              "      <td>593</td>\n",
              "      <td>Silence of the Lambs, The (1991)</td>\n",
              "      <td>Crime|Horror|Thriller</td>\n",
              "    </tr>\n",
              "    <tr>\n",
              "      <th>686</th>\n",
              "      <td>904</td>\n",
              "      <td>Rear Window (1954)</td>\n",
              "      <td>Mystery|Thriller</td>\n",
              "    </tr>\n",
              "    <tr>\n",
              "      <th>899</th>\n",
              "      <td>1197</td>\n",
              "      <td>Princess Bride, The (1987)</td>\n",
              "      <td>Action|Adventure|Comedy|Fantasy|Romance</td>\n",
              "    </tr>\n",
              "    <tr>\n",
              "      <th>905</th>\n",
              "      <td>1203</td>\n",
              "      <td>12 Angry Men (1957)</td>\n",
              "      <td>Drama</td>\n",
              "    </tr>\n",
              "    <tr>\n",
              "      <th>3622</th>\n",
              "      <td>4973</td>\n",
              "      <td>Amelie (Fabuleux destin d'Amélie Poulain, Le) ...</td>\n",
              "      <td>Comedy|Romance</td>\n",
              "    </tr>\n",
              "  </tbody>\n",
              "</table>\n",
              "</div>\n",
              "      <button class=\"colab-df-convert\" onclick=\"convertToInteractive('df-40798634-3f43-4b86-ae20-5477c4b8648a')\"\n",
              "              title=\"Convert this dataframe to an interactive table.\"\n",
              "              style=\"display:none;\">\n",
              "        \n",
              "  <svg xmlns=\"http://www.w3.org/2000/svg\" height=\"24px\"viewBox=\"0 0 24 24\"\n",
              "       width=\"24px\">\n",
              "    <path d=\"M0 0h24v24H0V0z\" fill=\"none\"/>\n",
              "    <path d=\"M18.56 5.44l.94 2.06.94-2.06 2.06-.94-2.06-.94-.94-2.06-.94 2.06-2.06.94zm-11 1L8.5 8.5l.94-2.06 2.06-.94-2.06-.94L8.5 2.5l-.94 2.06-2.06.94zm10 10l.94 2.06.94-2.06 2.06-.94-2.06-.94-.94-2.06-.94 2.06-2.06.94z\"/><path d=\"M17.41 7.96l-1.37-1.37c-.4-.4-.92-.59-1.43-.59-.52 0-1.04.2-1.43.59L10.3 9.45l-7.72 7.72c-.78.78-.78 2.05 0 2.83L4 21.41c.39.39.9.59 1.41.59.51 0 1.02-.2 1.41-.59l7.78-7.78 2.81-2.81c.8-.78.8-2.07 0-2.86zM5.41 20L4 18.59l7.72-7.72 1.47 1.35L5.41 20z\"/>\n",
              "  </svg>\n",
              "      </button>\n",
              "      \n",
              "  <style>\n",
              "    .colab-df-container {\n",
              "      display:flex;\n",
              "      flex-wrap:wrap;\n",
              "      gap: 12px;\n",
              "    }\n",
              "\n",
              "    .colab-df-convert {\n",
              "      background-color: #E8F0FE;\n",
              "      border: none;\n",
              "      border-radius: 50%;\n",
              "      cursor: pointer;\n",
              "      display: none;\n",
              "      fill: #1967D2;\n",
              "      height: 32px;\n",
              "      padding: 0 0 0 0;\n",
              "      width: 32px;\n",
              "    }\n",
              "\n",
              "    .colab-df-convert:hover {\n",
              "      background-color: #E2EBFA;\n",
              "      box-shadow: 0px 1px 2px rgba(60, 64, 67, 0.3), 0px 1px 3px 1px rgba(60, 64, 67, 0.15);\n",
              "      fill: #174EA6;\n",
              "    }\n",
              "\n",
              "    [theme=dark] .colab-df-convert {\n",
              "      background-color: #3B4455;\n",
              "      fill: #D2E3FC;\n",
              "    }\n",
              "\n",
              "    [theme=dark] .colab-df-convert:hover {\n",
              "      background-color: #434B5C;\n",
              "      box-shadow: 0px 1px 3px 1px rgba(0, 0, 0, 0.15);\n",
              "      filter: drop-shadow(0px 1px 2px rgba(0, 0, 0, 0.3));\n",
              "      fill: #FFFFFF;\n",
              "    }\n",
              "  </style>\n",
              "\n",
              "      <script>\n",
              "        const buttonEl =\n",
              "          document.querySelector('#df-40798634-3f43-4b86-ae20-5477c4b8648a button.colab-df-convert');\n",
              "        buttonEl.style.display =\n",
              "          google.colab.kernel.accessAllowed ? 'block' : 'none';\n",
              "\n",
              "        async function convertToInteractive(key) {\n",
              "          const element = document.querySelector('#df-40798634-3f43-4b86-ae20-5477c4b8648a');\n",
              "          const dataTable =\n",
              "            await google.colab.kernel.invokeFunction('convertToInteractive',\n",
              "                                                     [key], {});\n",
              "          if (!dataTable) return;\n",
              "\n",
              "          const docLinkHtml = 'Like what you see? Visit the ' +\n",
              "            '<a target=\"_blank\" href=https://colab.research.google.com/notebooks/data_table.ipynb>data table notebook</a>'\n",
              "            + ' to learn more about interactive tables.';\n",
              "          element.innerHTML = '';\n",
              "          dataTable['output_type'] = 'display_data';\n",
              "          await google.colab.output.renderOutput(dataTable, element);\n",
              "          const docLink = document.createElement('div');\n",
              "          docLink.innerHTML = docLinkHtml;\n",
              "          element.appendChild(docLink);\n",
              "        }\n",
              "      </script>\n",
              "    </div>\n",
              "  </div>\n",
              "  "
            ]
          },
          "metadata": {},
          "execution_count": 28
        }
      ]
    },
    {
      "cell_type": "code",
      "source": [],
      "metadata": {
        "id": "S3l5SaH3hdWL"
      },
      "execution_count": null,
      "outputs": []
    }
  ]
}